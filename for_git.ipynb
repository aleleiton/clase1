{
 "cells": [
  {
   "cell_type": "code",
   "execution_count": 8,
   "id": "c7489f83",
   "metadata": {},
   "outputs": [],
   "source": [
    "class Lote:\n",
    "    def __init__(self, nombre, cajones, precio):\n",
    "        self.nombre = nombre\n",
    "        self.cajones = cajones\n",
    "        self.precio = precio\n",
    "        \n"
   ]
  },
  {
   "cell_type": "code",
   "execution_count": 3,
   "id": "9b7e7c2a",
   "metadata": {},
   "outputs": [],
   "source": [
    "class MiLote(Lote):\n",
    "    def __init__(self, nombre, cajones, precio, factor):\n",
    "        # Fijate como es el llamado a `super().__init__()`\n",
    "        super().__init__(nombre, cajones, precio)\n",
    "        self.factor = factor\n",
    "\n",
    "    def costo(self):\n",
    "        return self.factor * self.precio"
   ]
  },
  {
   "cell_type": "code",
   "execution_count": 4,
   "id": "abef9e29",
   "metadata": {},
   "outputs": [],
   "source": [
    "milota = MiLote('leo',12,50,21)\n"
   ]
  },
  {
   "cell_type": "code",
   "execution_count": 6,
   "id": "1a50e027",
   "metadata": {},
   "outputs": [
    {
     "data": {
      "text/plain": [
       "1050"
      ]
     },
     "execution_count": 6,
     "metadata": {},
     "output_type": "execute_result"
    }
   ],
   "source": [
    "milota.costo()"
   ]
  },
  {
   "cell_type": "code",
   "execution_count": 10,
   "id": "6e49959d",
   "metadata": {},
   "outputs": [],
   "source": [
    "lote = Lote('jor',45,100)"
   ]
  },
  {
   "cell_type": "code",
   "execution_count": 11,
   "id": "ec78a361",
   "metadata": {},
   "outputs": [
    {
     "data": {
      "text/plain": [
       "'jor'"
      ]
     },
     "execution_count": 11,
     "metadata": {},
     "output_type": "execute_result"
    }
   ],
   "source": [
    "lote.nombre"
   ]
  },
  {
   "cell_type": "code",
   "execution_count": null,
   "id": "134398f5",
   "metadata": {},
   "outputs": [],
   "source": []
  }
 ],
 "metadata": {
  "kernelspec": {
   "display_name": "Python 3 (ipykernel)",
   "language": "python",
   "name": "python3"
  },
  "language_info": {
   "codemirror_mode": {
    "name": "ipython",
    "version": 3
   },
   "file_extension": ".py",
   "mimetype": "text/x-python",
   "name": "python",
   "nbconvert_exporter": "python",
   "pygments_lexer": "ipython3",
   "version": "3.9.7"
  }
 },
 "nbformat": 4,
 "nbformat_minor": 5
}
