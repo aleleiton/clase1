{
 "cells": [
  {
   "cell_type": "code",
   "execution_count": 1,
   "id": "c7489f83",
   "metadata": {},
   "outputs": [],
   "source": [
    "class Lote:\n",
    "    def __init__(self, nombre, cajones, precio):\n",
    "        self.nombre = nombre\n",
    "        self.cajones = cajones\n",
    "        self.precio = precio\n"
   ]
  },
  {
   "cell_type": "code",
   "execution_count": 2,
   "id": "9b7e7c2a",
   "metadata": {},
   "outputs": [],
   "source": [
    "class MiLote(Lote):\n",
    "    def __init__(self, nombre, cajones, precio, factor):\n",
    "        # Fijate como es el llamado a `super().__init__()`\n",
    "        super().__init__(nombre, cajones, precio)\n",
    "        self.factor = factor\n",
    "\n",
    "    def costo(self):\n",
    "        return self.factor * self.precio"
   ]
  },
  {
   "cell_type": "code",
   "execution_count": null,
   "id": "abef9e29",
   "metadata": {},
   "outputs": [],
   "source": []
  }
 ],
 "metadata": {
  "kernelspec": {
   "display_name": "Python 3 (ipykernel)",
   "language": "python",
   "name": "python3"
  },
  "language_info": {
   "codemirror_mode": {
    "name": "ipython",
    "version": 3
   },
   "file_extension": ".py",
   "mimetype": "text/x-python",
   "name": "python",
   "nbconvert_exporter": "python",
   "pygments_lexer": "ipython3",
   "version": "3.9.7"
  }
 },
 "nbformat": 4,
 "nbformat_minor": 5
}
