{
 "cells": [
  {
   "cell_type": "code",
   "execution_count": 6,
   "id": "a68b0bf3",
   "metadata": {},
   "outputs": [],
   "source": [
    "def hola(n):\n",
    "    \n",
    "    return  n*n\n",
    "    \n",
    "    "
   ]
  },
  {
   "cell_type": "code",
   "execution_count": 7,
   "id": "fe496758",
   "metadata": {},
   "outputs": [
    {
     "data": {
      "text/plain": [
       "14884"
      ]
     },
     "execution_count": 7,
     "metadata": {},
     "output_type": "execute_result"
    }
   ],
   "source": [
    "hola = hola(122)\n",
    "hola "
   ]
  },
  {
   "cell_type": "code",
   "execution_count": 8,
   "id": "deeb2970",
   "metadata": {},
   "outputs": [],
   "source": [
    "def casa(hola):\n",
    "    \n",
    "    x = hola\n",
    "    \n",
    "    return x+x"
   ]
  },
  {
   "cell_type": "code",
   "execution_count": 10,
   "id": "cc29d668",
   "metadata": {},
   "outputs": [
    {
     "data": {
      "text/plain": [
       "29768"
      ]
     },
     "execution_count": 10,
     "metadata": {},
     "output_type": "execute_result"
    }
   ],
   "source": [
    "casa(hola)"
   ]
  },
  {
   "cell_type": "code",
   "execution_count": null,
   "id": "355d9c5f",
   "metadata": {},
   "outputs": [],
   "source": []
  }
 ],
 "metadata": {
  "kernelspec": {
   "display_name": "Python 3 (ipykernel)",
   "language": "python",
   "name": "python3"
  },
  "language_info": {
   "codemirror_mode": {
    "name": "ipython",
    "version": 3
   },
   "file_extension": ".py",
   "mimetype": "text/x-python",
   "name": "python",
   "nbconvert_exporter": "python",
   "pygments_lexer": "ipython3",
   "version": "3.9.7"
  }
 },
 "nbformat": 4,
 "nbformat_minor": 5
}
